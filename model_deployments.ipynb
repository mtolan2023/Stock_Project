{
 "cells": [
  {
   "cell_type": "code",
   "execution_count": 1,
   "id": "05c81323",
   "metadata": {},
   "outputs": [
    {
     "name": "stderr",
     "output_type": "stream",
     "text": [
      "2023-09-12 19:57:32.724225: I tensorflow/core/platform/cpu_feature_guard.cc:193] This TensorFlow binary is optimized with oneAPI Deep Neural Network Library (oneDNN) to use the following CPU instructions in performance-critical operations:  SSE4.1 SSE4.2 AVX AVX2 FMA\n",
      "To enable them in other operations, rebuild TensorFlow with the appropriate compiler flags.\n"
     ]
    }
   ],
   "source": [
    "import pandas as pd\n",
    "import numpy as np\n",
    "import matplotlib.pyplot as plt\n",
    "import requests\n",
    "import json\n",
    "import datetime as dt\n",
    "from copy import deepcopy as dc\n",
    "# from sklearn.preprocessing import MinMaxScaler\n",
    "from tensorflow.keras.models import Sequential\n",
    "# from tensorflow.keras import layers\n",
    "# from tensorflow.keras.layers import *\n",
    "# from tensorflow.keras.callbacks import ModelCheckpoint\n",
    "# from tensorflow.keras.losses import MeanSquaredError\n",
    "# from tensorflow.keras.metrics import RootMeanSquaredError\n",
    "# from tensorflow.keras.optimizers import Adam\n",
    "from keras.models import load_model\n",
    "\n",
    "from api_keys import coinapi_key"
   ]
  },
  {
   "cell_type": "code",
   "execution_count": 2,
   "id": "9dc911d6",
   "metadata": {},
   "outputs": [
    {
     "name": "stdout",
     "output_type": "stream",
     "text": [
      "Error: 429\n"
     ]
    }
   ],
   "source": [
    "#  https://docs.coinapi.io/market-data/rest-api/ohlcv\n",
    "# Pull BTC data from coinapi\n",
    "\n",
    "url = 'https://rest.coinapi.io/v1/ohlcv/BITSTAMP_SPOT_BTC_USD/history?period_id=1DAY&&time_start=2021-01-02T00:00:00&limit=10000'\n",
    "headers = {'X-CoinAPI-Key' : coinapi_key}\n",
    "response = requests.get(url, headers=headers)\n",
    " \n",
    "if response.status_code == 200:\n",
    "    json_data = response.json()\n",
    "    print(json_data)\n",
    "else:\n",
    "    print(f\"Error: {response.status_code}\")"
   ]
  },
  {
   "cell_type": "code",
   "execution_count": 3,
   "id": "264265f3",
   "metadata": {},
   "outputs": [
    {
     "ename": "NameError",
     "evalue": "name 'json_data' is not defined",
     "output_type": "error",
     "traceback": [
      "\u001b[0;31m---------------------------------------------------------------------------\u001b[0m",
      "\u001b[0;31mNameError\u001b[0m                                 Traceback (most recent call last)",
      "Cell \u001b[0;32mIn[3], line 2\u001b[0m\n\u001b[1;32m      1\u001b[0m \u001b[38;5;66;03m#Convert json to pandas df\u001b[39;00m\n\u001b[0;32m----> 2\u001b[0m df \u001b[38;5;241m=\u001b[39m pd\u001b[38;5;241m.\u001b[39mDataFrame(\u001b[43mjson_data\u001b[49m)\n\u001b[1;32m      4\u001b[0m df\u001b[38;5;241m.\u001b[39mhead()\n",
      "\u001b[0;31mNameError\u001b[0m: name 'json_data' is not defined"
     ]
    }
   ],
   "source": [
    "#Convert json to pandas df\n",
    "df = pd.DataFrame(json_data)\n",
    "\n",
    "df.head()"
   ]
  },
  {
   "cell_type": "code",
   "execution_count": null,
   "id": "5da47913",
   "metadata": {
    "scrolled": true
   },
   "outputs": [],
   "source": [
    "#reduce df to x and y columns\n",
    "data = df[[\"time_period_start\", \"price_close\"]]\n",
    "\n",
    "#rename columns\n",
    "data = data.rename(columns={\"time_period_start\":\"Date\",\"price_close\":\"Close\"})\n",
    "\n",
    "#convert date to dt, refomat to yyyymmdd\n",
    "data['Date'] = pd.to_datetime(data['Date']).dt.date\n",
    "\n",
    "#json return began with most recent date, reversed for plotting/analysis\n",
    "# data = data.reindex(index=data.index[::-1])\n",
    "\n",
    "#set date as index\n",
    "data.set_index('Date', inplace=True)\n",
    "\n",
    "data"
   ]
  },
  {
   "cell_type": "code",
   "execution_count": null,
   "id": "11673922",
   "metadata": {},
   "outputs": [],
   "source": [
    "close = data['Close']"
   ]
  },
  {
   "cell_type": "code",
   "execution_count": null,
   "id": "29474085",
   "metadata": {
    "scrolled": true
   },
   "outputs": [],
   "source": [
    "#plot historical eth price\n",
    "plt.plot(close)"
   ]
  },
  {
   "cell_type": "code",
   "execution_count": null,
   "id": "ffe94e9f",
   "metadata": {},
   "outputs": [],
   "source": [
    "# build 1 month lookback for lstm training\n",
    "def prepare_dataframe_for_lstm(data, n_steps):\n",
    "    data = dc(data)\n",
    "    \n",
    "    for i in range(1, n_steps+1):\n",
    "        data[f'Close(t-{i})'] = data['Close'].shift(i)\n",
    "        \n",
    "    data.dropna(inplace=True)\n",
    "    \n",
    "    return data\n",
    "\n",
    "lookback = 29\n",
    "shifted_df = prepare_dataframe_for_lstm(data, lookback)\n",
    "shifted_df"
   ]
  },
  {
   "cell_type": "code",
   "execution_count": null,
   "id": "2e1b0258",
   "metadata": {},
   "outputs": [],
   "source": [
    "#create array of dates for plotting from index. Must be shifted by 7 to match time series data, \n",
    "# since time series is 7 days and does not generate until the 7th day\n",
    "# data starts on 9/13/11, but series don't start until 9/20\n",
    "dates = data.index\n",
    "dates = dates[lookback:]\n",
    "dates.shape"
   ]
  },
  {
   "cell_type": "code",
   "execution_count": null,
   "id": "6b66925e",
   "metadata": {},
   "outputs": [],
   "source": [
    "#convert from df to numpy array\n",
    "shifted_df_as_np = shifted_df.to_numpy()\n",
    "\n",
    "shifted_df_as_np\n",
    "\n",
    "\n",
    "shifted_df_as_np_int = shifted_df_as_np.astype(int)\n",
    "log_transformed_data = np.log(shifted_df_as_np_int)\n",
    "\n",
    "log_transformed_data.shape"
   ]
  },
  {
   "cell_type": "code",
   "execution_count": null,
   "id": "e799292a",
   "metadata": {
    "scrolled": true
   },
   "outputs": [],
   "source": [
    "model = load_model(\"H5_Files/BTC_30_day_lookback.h5\")"
   ]
  },
  {
   "cell_type": "code",
   "execution_count": null,
   "id": "ff333d07",
   "metadata": {},
   "outputs": [],
   "source": [
    "# Initialize an array to store predictions\n",
    "predictions = []\n",
    "predicted_dates = []\n",
    "prediction_range = 7\n",
    "\n",
    "#create list of numbers to add to date based on date range\n",
    "date_range = list(range(1, prediction_range +1))\n",
    "\n",
    "# Use the last n_steps data points from the training set to make predictions\n",
    "current_batch = log_transformed_data[-1].reshape((1, 30, 1))\n",
    "initial_date = dates[-1]\n",
    "\n",
    "for i in range(prediction_range):  # Generate predictions for 7 days\n",
    "    # Predict the next data point\n",
    "    current_pred = model.predict(current_batch)[0,0]\n",
    "    \n",
    "    # Append the prediction to the list of predictions\n",
    "    predictions.append(current_pred)\n",
    "        \n",
    "    # Shift the current batch one step forward\n",
    "    current_batch = np.roll(current_batch, shift=-1, axis=1)\n",
    "    current_batch[0, -1, 0] = current_pred\n",
    "    \n",
    "\n",
    "    \n",
    "for day in date_range:\n",
    "    new_date = initial_date + dt.timedelta(days=day)\n",
    "    predicted_dates.append(new_date\n",
    "                          )\n",
    "#'predictions' contains forecast\n",
    "# print(predictions)\n",
    "\n",
    "# for date in predicted_dates:\n",
    "#     print(date)\n",
    "\n"
   ]
  },
  {
   "cell_type": "code",
   "execution_count": null,
   "id": "d8d970ff",
   "metadata": {},
   "outputs": [],
   "source": [
    "plt.plot(close[-30:])\n",
    "plt.plot(predicted_dates, np.exp(predictions))\n",
    "plt.xticks(rotation=90)\n",
    "\n",
    "plt.show()"
   ]
  },
  {
   "cell_type": "code",
   "execution_count": null,
   "id": "90a1f930",
   "metadata": {},
   "outputs": [],
   "source": []
  },
  {
   "cell_type": "code",
   "execution_count": null,
   "id": "3537c2d0",
   "metadata": {},
   "outputs": [],
   "source": []
  }
 ],
 "metadata": {
  "kernelspec": {
   "display_name": "Python 3 (ipykernel)",
   "language": "python",
   "name": "python3"
  },
  "language_info": {
   "codemirror_mode": {
    "name": "ipython",
    "version": 3
   },
   "file_extension": ".py",
   "mimetype": "text/x-python",
   "name": "python",
   "nbconvert_exporter": "python",
   "pygments_lexer": "ipython3",
   "version": "3.10.10"
  }
 },
 "nbformat": 4,
 "nbformat_minor": 5
}
